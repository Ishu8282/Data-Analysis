{
 "cells": [
  {
   "cell_type": "code",
   "execution_count": 19,
   "metadata": {},
   "outputs": [],
   "source": [
    "import folium\n",
    "map=folium.Map(location=[51,10],zoom_start=6,title=\"stamen terrain\")\n",
    "\n",
    "fg= folium.FeatureGroup(name=\"map points\")\n",
    "\n",
    "co=[[50,20],[48,10]]\n",
    "for coordinates in co:\n",
    "    fg.add_child(folium.Marker(location=coordinates,popup=\"hey i am created by ishu\",icon=folium.Icon(colur=\"green\")))\n",
    "map.add_child(fg)\n",
    "\n",
    "map.save(\"map1.html\")"
   ]
  },
  {
   "cell_type": "code",
   "execution_count": null,
   "metadata": {},
   "outputs": [],
   "source": []
  }
 ],
 "metadata": {
  "kernelspec": {
   "display_name": "Python 3",
   "language": "python",
   "name": "python3"
  },
  "language_info": {
   "codemirror_mode": {
    "name": "ipython",
    "version": 3
   },
   "file_extension": ".py",
   "mimetype": "text/x-python",
   "name": "python",
   "nbconvert_exporter": "python",
   "pygments_lexer": "ipython3",
   "version": "3.8.1"
  }
 },
 "nbformat": 4,
 "nbformat_minor": 4
}
