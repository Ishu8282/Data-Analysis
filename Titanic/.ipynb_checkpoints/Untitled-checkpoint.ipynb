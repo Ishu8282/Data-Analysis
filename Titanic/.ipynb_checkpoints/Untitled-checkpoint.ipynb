{
 "cells": [
  {
   "cell_type": "code",
   "execution_count": 142,
   "metadata": {},
   "outputs": [],
   "source": [
    "import pandas as pd\n",
    "import numpy as np\n",
    "\n",
    "from sklearn import preprocessing\n",
    "from sklearn.linear_model import LinearRegression\n",
    "\n",
    "import matplotlib.pyplot as plt\n",
    "import seaborn as sns"
   ]
  },
  {
   "cell_type": "code",
   "execution_count": 106,
   "metadata": {},
   "outputs": [
    {
     "data": {
      "text/html": [
       "<div>\n",
       "<style scoped>\n",
       "    .dataframe tbody tr th:only-of-type {\n",
       "        vertical-align: middle;\n",
       "    }\n",
       "\n",
       "    .dataframe tbody tr th {\n",
       "        vertical-align: top;\n",
       "    }\n",
       "\n",
       "    .dataframe thead th {\n",
       "        text-align: right;\n",
       "    }\n",
       "</style>\n",
       "<table border=\"1\" class=\"dataframe\">\n",
       "  <thead>\n",
       "    <tr style=\"text-align: right;\">\n",
       "      <th></th>\n",
       "      <th>PassengerId</th>\n",
       "      <th>Survived</th>\n",
       "      <th>Pclass</th>\n",
       "      <th>Name</th>\n",
       "      <th>Sex</th>\n",
       "      <th>Age</th>\n",
       "      <th>SibSp</th>\n",
       "      <th>Parch</th>\n",
       "      <th>Ticket</th>\n",
       "      <th>Fare</th>\n",
       "      <th>Cabin</th>\n",
       "      <th>Embarked</th>\n",
       "    </tr>\n",
       "  </thead>\n",
       "  <tbody>\n",
       "    <tr>\n",
       "      <th>0</th>\n",
       "      <td>1</td>\n",
       "      <td>0</td>\n",
       "      <td>3</td>\n",
       "      <td>Braund, Mr. Owen Harris</td>\n",
       "      <td>male</td>\n",
       "      <td>22.0</td>\n",
       "      <td>1</td>\n",
       "      <td>0</td>\n",
       "      <td>A/5 21171</td>\n",
       "      <td>7.2500</td>\n",
       "      <td>NaN</td>\n",
       "      <td>S</td>\n",
       "    </tr>\n",
       "    <tr>\n",
       "      <th>1</th>\n",
       "      <td>2</td>\n",
       "      <td>1</td>\n",
       "      <td>1</td>\n",
       "      <td>Cumings, Mrs. John Bradley (Florence Briggs Th...</td>\n",
       "      <td>female</td>\n",
       "      <td>38.0</td>\n",
       "      <td>1</td>\n",
       "      <td>0</td>\n",
       "      <td>PC 17599</td>\n",
       "      <td>71.2833</td>\n",
       "      <td>C85</td>\n",
       "      <td>C</td>\n",
       "    </tr>\n",
       "    <tr>\n",
       "      <th>2</th>\n",
       "      <td>3</td>\n",
       "      <td>1</td>\n",
       "      <td>3</td>\n",
       "      <td>Heikkinen, Miss. Laina</td>\n",
       "      <td>female</td>\n",
       "      <td>26.0</td>\n",
       "      <td>0</td>\n",
       "      <td>0</td>\n",
       "      <td>STON/O2. 3101282</td>\n",
       "      <td>7.9250</td>\n",
       "      <td>NaN</td>\n",
       "      <td>S</td>\n",
       "    </tr>\n",
       "    <tr>\n",
       "      <th>3</th>\n",
       "      <td>4</td>\n",
       "      <td>1</td>\n",
       "      <td>1</td>\n",
       "      <td>Futrelle, Mrs. Jacques Heath (Lily May Peel)</td>\n",
       "      <td>female</td>\n",
       "      <td>35.0</td>\n",
       "      <td>1</td>\n",
       "      <td>0</td>\n",
       "      <td>113803</td>\n",
       "      <td>53.1000</td>\n",
       "      <td>C123</td>\n",
       "      <td>S</td>\n",
       "    </tr>\n",
       "    <tr>\n",
       "      <th>4</th>\n",
       "      <td>5</td>\n",
       "      <td>0</td>\n",
       "      <td>3</td>\n",
       "      <td>Allen, Mr. William Henry</td>\n",
       "      <td>male</td>\n",
       "      <td>35.0</td>\n",
       "      <td>0</td>\n",
       "      <td>0</td>\n",
       "      <td>373450</td>\n",
       "      <td>8.0500</td>\n",
       "      <td>NaN</td>\n",
       "      <td>S</td>\n",
       "    </tr>\n",
       "  </tbody>\n",
       "</table>\n",
       "</div>"
      ],
      "text/plain": [
       "   PassengerId  Survived  Pclass  \\\n",
       "0            1         0       3   \n",
       "1            2         1       1   \n",
       "2            3         1       3   \n",
       "3            4         1       1   \n",
       "4            5         0       3   \n",
       "\n",
       "                                                Name     Sex   Age  SibSp  \\\n",
       "0                            Braund, Mr. Owen Harris    male  22.0      1   \n",
       "1  Cumings, Mrs. John Bradley (Florence Briggs Th...  female  38.0      1   \n",
       "2                             Heikkinen, Miss. Laina  female  26.0      0   \n",
       "3       Futrelle, Mrs. Jacques Heath (Lily May Peel)  female  35.0      1   \n",
       "4                           Allen, Mr. William Henry    male  35.0      0   \n",
       "\n",
       "   Parch            Ticket     Fare Cabin Embarked  \n",
       "0      0         A/5 21171   7.2500   NaN        S  \n",
       "1      0          PC 17599  71.2833   C85        C  \n",
       "2      0  STON/O2. 3101282   7.9250   NaN        S  \n",
       "3      0            113803  53.1000  C123        S  \n",
       "4      0            373450   8.0500   NaN        S  "
      ]
     },
     "execution_count": 106,
     "metadata": {},
     "output_type": "execute_result"
    }
   ],
   "source": [
    "#importing the datasets\n",
    "test = pd.read_csv(\"test.csv\")\n",
    "train = pd.read_csv(\"train.csv\")\n",
    "train.head()"
   ]
  },
  {
   "cell_type": "code",
   "execution_count": 3,
   "metadata": {},
   "outputs": [
    {
     "data": {
      "text/html": [
       "<div>\n",
       "<style scoped>\n",
       "    .dataframe tbody tr th:only-of-type {\n",
       "        vertical-align: middle;\n",
       "    }\n",
       "\n",
       "    .dataframe tbody tr th {\n",
       "        vertical-align: top;\n",
       "    }\n",
       "\n",
       "    .dataframe thead th {\n",
       "        text-align: right;\n",
       "    }\n",
       "</style>\n",
       "<table border=\"1\" class=\"dataframe\">\n",
       "  <thead>\n",
       "    <tr style=\"text-align: right;\">\n",
       "      <th></th>\n",
       "      <th>PassengerId</th>\n",
       "      <th>Survived</th>\n",
       "      <th>Pclass</th>\n",
       "      <th>Age</th>\n",
       "      <th>SibSp</th>\n",
       "      <th>Parch</th>\n",
       "      <th>Fare</th>\n",
       "    </tr>\n",
       "  </thead>\n",
       "  <tbody>\n",
       "    <tr>\n",
       "      <th>count</th>\n",
       "      <td>891.000000</td>\n",
       "      <td>891.000000</td>\n",
       "      <td>891.000000</td>\n",
       "      <td>714.000000</td>\n",
       "      <td>891.000000</td>\n",
       "      <td>891.000000</td>\n",
       "      <td>891.000000</td>\n",
       "    </tr>\n",
       "    <tr>\n",
       "      <th>mean</th>\n",
       "      <td>446.000000</td>\n",
       "      <td>0.383838</td>\n",
       "      <td>2.308642</td>\n",
       "      <td>29.699118</td>\n",
       "      <td>0.523008</td>\n",
       "      <td>0.381594</td>\n",
       "      <td>32.204208</td>\n",
       "    </tr>\n",
       "    <tr>\n",
       "      <th>std</th>\n",
       "      <td>257.353842</td>\n",
       "      <td>0.486592</td>\n",
       "      <td>0.836071</td>\n",
       "      <td>14.526497</td>\n",
       "      <td>1.102743</td>\n",
       "      <td>0.806057</td>\n",
       "      <td>49.693429</td>\n",
       "    </tr>\n",
       "    <tr>\n",
       "      <th>min</th>\n",
       "      <td>1.000000</td>\n",
       "      <td>0.000000</td>\n",
       "      <td>1.000000</td>\n",
       "      <td>0.420000</td>\n",
       "      <td>0.000000</td>\n",
       "      <td>0.000000</td>\n",
       "      <td>0.000000</td>\n",
       "    </tr>\n",
       "    <tr>\n",
       "      <th>25%</th>\n",
       "      <td>223.500000</td>\n",
       "      <td>0.000000</td>\n",
       "      <td>2.000000</td>\n",
       "      <td>20.125000</td>\n",
       "      <td>0.000000</td>\n",
       "      <td>0.000000</td>\n",
       "      <td>7.910400</td>\n",
       "    </tr>\n",
       "    <tr>\n",
       "      <th>50%</th>\n",
       "      <td>446.000000</td>\n",
       "      <td>0.000000</td>\n",
       "      <td>3.000000</td>\n",
       "      <td>28.000000</td>\n",
       "      <td>0.000000</td>\n",
       "      <td>0.000000</td>\n",
       "      <td>14.454200</td>\n",
       "    </tr>\n",
       "    <tr>\n",
       "      <th>75%</th>\n",
       "      <td>668.500000</td>\n",
       "      <td>1.000000</td>\n",
       "      <td>3.000000</td>\n",
       "      <td>38.000000</td>\n",
       "      <td>1.000000</td>\n",
       "      <td>0.000000</td>\n",
       "      <td>31.000000</td>\n",
       "    </tr>\n",
       "    <tr>\n",
       "      <th>max</th>\n",
       "      <td>891.000000</td>\n",
       "      <td>1.000000</td>\n",
       "      <td>3.000000</td>\n",
       "      <td>80.000000</td>\n",
       "      <td>8.000000</td>\n",
       "      <td>6.000000</td>\n",
       "      <td>512.329200</td>\n",
       "    </tr>\n",
       "  </tbody>\n",
       "</table>\n",
       "</div>"
      ],
      "text/plain": [
       "       PassengerId    Survived      Pclass         Age       SibSp  \\\n",
       "count   891.000000  891.000000  891.000000  714.000000  891.000000   \n",
       "mean    446.000000    0.383838    2.308642   29.699118    0.523008   \n",
       "std     257.353842    0.486592    0.836071   14.526497    1.102743   \n",
       "min       1.000000    0.000000    1.000000    0.420000    0.000000   \n",
       "25%     223.500000    0.000000    2.000000   20.125000    0.000000   \n",
       "50%     446.000000    0.000000    3.000000   28.000000    0.000000   \n",
       "75%     668.500000    1.000000    3.000000   38.000000    1.000000   \n",
       "max     891.000000    1.000000    3.000000   80.000000    8.000000   \n",
       "\n",
       "            Parch        Fare  \n",
       "count  891.000000  891.000000  \n",
       "mean     0.381594   32.204208  \n",
       "std      0.806057   49.693429  \n",
       "min      0.000000    0.000000  \n",
       "25%      0.000000    7.910400  \n",
       "50%      0.000000   14.454200  \n",
       "75%      0.000000   31.000000  \n",
       "max      6.000000  512.329200  "
      ]
     },
     "execution_count": 3,
     "metadata": {},
     "output_type": "execute_result"
    }
   ],
   "source": [
    "train.describe()"
   ]
  },
  {
   "cell_type": "code",
   "execution_count": 4,
   "metadata": {},
   "outputs": [
    {
     "data": {
      "text/html": [
       "<div>\n",
       "<style scoped>\n",
       "    .dataframe tbody tr th:only-of-type {\n",
       "        vertical-align: middle;\n",
       "    }\n",
       "\n",
       "    .dataframe tbody tr th {\n",
       "        vertical-align: top;\n",
       "    }\n",
       "\n",
       "    .dataframe thead th {\n",
       "        text-align: right;\n",
       "    }\n",
       "</style>\n",
       "<table border=\"1\" class=\"dataframe\">\n",
       "  <thead>\n",
       "    <tr style=\"text-align: right;\">\n",
       "      <th></th>\n",
       "      <th>total</th>\n",
       "      <th>%</th>\n",
       "    </tr>\n",
       "  </thead>\n",
       "  <tbody>\n",
       "    <tr>\n",
       "      <th>Cabin</th>\n",
       "      <td>687</td>\n",
       "      <td>77.1</td>\n",
       "    </tr>\n",
       "    <tr>\n",
       "      <th>Age</th>\n",
       "      <td>177</td>\n",
       "      <td>19.9</td>\n",
       "    </tr>\n",
       "    <tr>\n",
       "      <th>Embarked</th>\n",
       "      <td>2</td>\n",
       "      <td>0.2</td>\n",
       "    </tr>\n",
       "    <tr>\n",
       "      <th>Fare</th>\n",
       "      <td>0</td>\n",
       "      <td>0.0</td>\n",
       "    </tr>\n",
       "    <tr>\n",
       "      <th>Ticket</th>\n",
       "      <td>0</td>\n",
       "      <td>0.0</td>\n",
       "    </tr>\n",
       "    <tr>\n",
       "      <th>Parch</th>\n",
       "      <td>0</td>\n",
       "      <td>0.0</td>\n",
       "    </tr>\n",
       "    <tr>\n",
       "      <th>SibSp</th>\n",
       "      <td>0</td>\n",
       "      <td>0.0</td>\n",
       "    </tr>\n",
       "    <tr>\n",
       "      <th>Sex</th>\n",
       "      <td>0</td>\n",
       "      <td>0.0</td>\n",
       "    </tr>\n",
       "    <tr>\n",
       "      <th>Name</th>\n",
       "      <td>0</td>\n",
       "      <td>0.0</td>\n",
       "    </tr>\n",
       "    <tr>\n",
       "      <th>Pclass</th>\n",
       "      <td>0</td>\n",
       "      <td>0.0</td>\n",
       "    </tr>\n",
       "    <tr>\n",
       "      <th>Survived</th>\n",
       "      <td>0</td>\n",
       "      <td>0.0</td>\n",
       "    </tr>\n",
       "    <tr>\n",
       "      <th>PassengerId</th>\n",
       "      <td>0</td>\n",
       "      <td>0.0</td>\n",
       "    </tr>\n",
       "  </tbody>\n",
       "</table>\n",
       "</div>"
      ],
      "text/plain": [
       "             total     %\n",
       "Cabin          687  77.1\n",
       "Age            177  19.9\n",
       "Embarked         2   0.2\n",
       "Fare             0   0.0\n",
       "Ticket           0   0.0\n",
       "Parch            0   0.0\n",
       "SibSp            0   0.0\n",
       "Sex              0   0.0\n",
       "Name             0   0.0\n",
       "Pclass           0   0.0\n",
       "Survived         0   0.0\n",
       "PassengerId      0   0.0"
      ]
     },
     "execution_count": 4,
     "metadata": {},
     "output_type": "execute_result"
    }
   ],
   "source": [
    "total=train.isnull().sum().sort_values(ascending=False)\n",
    "p=(train.isnull().sum()/train.isnull().count())*100\n",
    "p1=(round(p,1)).sort_values(ascending=False)\n",
    "missing_data=pd.concat([total,p1],axis=1,keys=['total','%'])\n",
    "missing_data"
   ]
  },
  {
   "cell_type": "markdown",
   "metadata": {},
   "source": [
    "# Explore the data who are the passengers"
   ]
  },
  {
   "cell_type": "code",
   "execution_count": 5,
   "metadata": {},
   "outputs": [
    {
     "data": {
      "image/png": "[encoded data removed]",
      "text/plain": [
       "<Figure size 691.2x144 with 3 Axes>"
      ]
     },
     "metadata": {
      "needs_background": "light"
     },
     "output_type": "display_data"
    }
   ],
   "source": [
    "g=sns.FacetGrid(train,col='Pclass',height=2,aspect=1.6)\n",
    "g = g.map(plt.hist, \"Age\",bins=20)"
   ]
  },
  {
   "cell_type": "raw",
   "metadata": {},
   "source": [
    "Observations: the passegers are mostly between the range of 20 to 40"
   ]
  },
  {
   "cell_type": "code",
   "execution_count": 6,
   "metadata": {},
   "outputs": [
    {
     "data": {
      "image/png": "[encoded data removed]",
      "text/plain": [
       "<Figure size 460.8x144 with 2 Axes>"
      ]
     },
     "metadata": {
      "needs_background": "light"
     },
     "output_type": "display_data"
    }
   ],
   "source": [
    "g=sns.FacetGrid(train,col='Survived',height=2,aspect=1.6)\n",
    "g = g.map(plt.hist, \"Age\",bins=20)"
   ]
  },
  {
   "cell_type": "raw",
   "metadata": {},
   "source": [
    "Observation: Infants have survived the most\n",
    "             Old people who are nearly of the age=80 have survived\n",
    "             most of the people where between the age 20 and 40 who have survived and died"
   ]
  },
  {
   "cell_type": "code",
   "execution_count": 7,
   "metadata": {},
   "outputs": [
    {
     "data": {
      "image/png": "[encoded data removed]",
      "text/plain": [
       "<Figure size 460.8x432 with 6 Axes>"
      ]
     },
     "metadata": {
      "needs_background": "light"
     },
     "output_type": "display_data"
    }
   ],
   "source": [
    "g=sns.FacetGrid(train,col='Survived',row='Pclass',height=2,aspect=1.6)\n",
    "g = g.map(plt.hist, \"Age\",bins=20)"
   ]
  },
  {
   "cell_type": "markdown",
   "metadata": {},
   "source": [
    "Observations: Most of the passengers between the age 20 to 40 from class=3 have not surived\n",
    "              Most of the passengers between the age 20 to 40 from class=1 have survived"
   ]
  },
  {
   "cell_type": "code",
   "execution_count": 10,
   "metadata": {},
   "outputs": [
    {
     "data": {
      "image/png": "[encoded data removed]",
      "text/plain": [
       "<Figure size 432x288 with 1 Axes>"
      ]
     },
     "metadata": {
      "needs_background": "light"
     },
     "output_type": "display_data"
    }
   ],
   "source": [
    "a=sns.countplot(x='Embarked',data=train,hue='Pclass')"
   ]
  },
  {
   "cell_type": "markdown",
   "metadata": {},
   "source": [
    "#To find the Chances of Survival"
   ]
  },
  {
   "cell_type": "code",
   "execution_count": 11,
   "metadata": {},
   "outputs": [
    {
     "name": "stdout",
     "output_type": "stream",
     "text": [
      "   Pclass  Survived\n",
      "0       1  0.629630\n",
      "1       2  0.472826\n",
      "2       3  0.242363\n"
     ]
    },
    {
     "data": {
      "image/png": "[encoded data removed]",
      "text/plain": [
       "<Figure size 432x288 with 1 Axes>"
      ]
     },
     "metadata": {
      "needs_background": "light"
     },
     "output_type": "display_data"
    }
   ],
   "source": [
    "d=train[['Pclass','Survived']].groupby(['Pclass'],as_index=False).mean()\n",
    "print(d)\n",
    "a=sns.countplot(x='Pclass',data=train,hue='Survived')"
   ]
  },
  {
   "cell_type": "code",
   "execution_count": 12,
   "metadata": {},
   "outputs": [
    {
     "name": "stdout",
     "output_type": "stream",
     "text": [
      "      Sex  Survived\n",
      "0  female  0.742038\n",
      "1    male  0.188908\n"
     ]
    },
    {
     "data": {
      "text/plain": [
       "<matplotlib.axes._subplots.AxesSubplot at 0x18e4160>"
      ]
     },
     "execution_count": 12,
     "metadata": {},
     "output_type": "execute_result"
    },
    {
     "data": {
      "image/png": "[encoded data removed]",
      "text/plain": [
       "<Figure size 432x288 with 1 Axes>"
      ]
     },
     "metadata": {
      "needs_background": "light"
     },
     "output_type": "display_data"
    }
   ],
   "source": [
    "d=train[['Sex','Survived']].groupby(['Sex'],as_index=False).mean().sort_values(by='Survived',ascending=False)\n",
    "print(d)\n",
    "sns.countplot(x='Sex',data=train,hue='Survived')"
   ]
  },
  {
   "cell_type": "code",
   "execution_count": 107,
   "metadata": {},
   "outputs": [],
   "source": [
    "train['Sex']=train['Sex'].map({'female':1,'male':0}).astype(int)"
   ]
  },
  {
   "cell_type": "code",
   "execution_count": 108,
   "metadata": {
    "scrolled": true
   },
   "outputs": [
    {
     "data": {
      "text/plain": [
       "<seaborn.axisgrid.FacetGrid at 0x134f1ac0>"
      ]
     },
     "execution_count": 108,
     "metadata": {},
     "output_type": "execute_result"
    },
    {
     "data": {
      "image/png": "[encoded data removed]",
      "text/plain": [
       "<Figure size 432x288 with 1 Axes>"
      ]
     },
     "metadata": {
      "needs_background": "light"
     },
     "output_type": "display_data"
    },
    {
     "data": {
      "image/png": "[encoded data removed]",
      "text/plain": [
       "<Figure size 604.8x288 with 3 Axes>"
      ]
     },
     "metadata": {
      "needs_background": "light"
     },
     "output_type": "display_data"
    }
   ],
   "source": [
    "sns.barplot(x=\"Sex\", y=\"Survived\", data=train)\n",
    "plt.legend(title='Survived', loc='upper left', labels=['0 = MALE', '1= FEMALE'])\n",
    "sns.catplot(x=\"Sex\", y=\"Survived\", data=train, col=\"Pclass\", kind=\"bar\",height=4, aspect=.7)"
   ]
  },
  {
   "cell_type": "code",
   "execution_count": 5,
   "metadata": {},
   "outputs": [
    {
     "data": {
      "text/html": [
       "<style  type=\"text/css\" >\n",
       "    #T_9b122134_a4c0_11ea_908d_d85de242f6eerow0_col0 {\n",
       "            background-color:  #b40426;\n",
       "            color:  #f1f1f1;\n",
       "        }    #T_9b122134_a4c0_11ea_908d_d85de242f6eerow0_col1 {\n",
       "            background-color:  #8caffe;\n",
       "            color:  #000000;\n",
       "        }    #T_9b122134_a4c0_11ea_908d_d85de242f6eerow0_col2 {\n",
       "            background-color:  #a9c6fd;\n",
       "            color:  #000000;\n",
       "        }    #T_9b122134_a4c0_11ea_908d_d85de242f6eerow0_col3 {\n",
       "            background-color:  #536edd;\n",
       "            color:  #000000;\n",
       "        }    #T_9b122134_a4c0_11ea_908d_d85de242f6eerow0_col4 {\n",
       "            background-color:  #9dbdff;\n",
       "            color:  #000000;\n",
       "        }    #T_9b122134_a4c0_11ea_908d_d85de242f6eerow0_col5 {\n",
       "            background-color:  #799cf8;\n",
       "            color:  #000000;\n",
       "        }    #T_9b122134_a4c0_11ea_908d_d85de242f6eerow0_col6 {\n",
       "            background-color:  #6c8ff1;\n",
       "            color:  #000000;\n",
       "        }    #T_9b122134_a4c0_11ea_908d_d85de242f6eerow0_col7 {\n",
       "            background-color:  #b3cdfb;\n",
       "            color:  #000000;\n",
       "        }    #T_9b122134_a4c0_11ea_908d_d85de242f6eerow1_col0 {\n",
       "            background-color:  #4961d2;\n",
       "            color:  #f1f1f1;\n",
       "        }    #T_9b122134_a4c0_11ea_908d_d85de242f6eerow1_col1 {\n",
       "            background-color:  #b40426;\n",
       "            color:  #f1f1f1;\n",
       "        }    #T_9b122134_a4c0_11ea_908d_d85de242f6eerow1_col2 {\n",
       "            background-color:  #6485ec;\n",
       "            color:  #000000;\n",
       "        }    #T_9b122134_a4c0_11ea_908d_d85de242f6eerow1_col3 {\n",
       "            background-color:  #f1ccb8;\n",
       "            color:  #000000;\n",
       "        }    #T_9b122134_a4c0_11ea_908d_d85de242f6eerow1_col4 {\n",
       "            background-color:  #80a3fa;\n",
       "            color:  #000000;\n",
       "        }    #T_9b122134_a4c0_11ea_908d_d85de242f6eerow1_col5 {\n",
       "            background-color:  #7ea1fa;\n",
       "            color:  #000000;\n",
       "        }    #T_9b122134_a4c0_11ea_908d_d85de242f6eerow1_col6 {\n",
       "            background-color:  #85a8fc;\n",
       "            color:  #000000;\n",
       "        }    #T_9b122134_a4c0_11ea_908d_d85de242f6eerow1_col7 {\n",
       "            background-color:  #e2dad5;\n",
       "            color:  #000000;\n",
       "        }    #T_9b122134_a4c0_11ea_908d_d85de242f6eerow2_col0 {\n",
       "            background-color:  #4055c8;\n",
       "            color:  #f1f1f1;\n",
       "        }    #T_9b122134_a4c0_11ea_908d_d85de242f6eerow2_col1 {\n",
       "            background-color:  #3b4cc0;\n",
       "            color:  #f1f1f1;\n",
       "        }    #T_9b122134_a4c0_11ea_908d_d85de242f6eerow2_col2 {\n",
       "            background-color:  #b40426;\n",
       "            color:  #f1f1f1;\n",
       "        }    #T_9b122134_a4c0_11ea_908d_d85de242f6eerow2_col3 {\n",
       "            background-color:  #3b4cc0;\n",
       "            color:  #f1f1f1;\n",
       "        }    #T_9b122134_a4c0_11ea_908d_d85de242f6eerow2_col4 {\n",
       "            background-color:  #3b4cc0;\n",
       "            color:  #f1f1f1;\n",
       "        }    #T_9b122134_a4c0_11ea_908d_d85de242f6eerow2_col5 {\n",
       "            background-color:  #9ebeff;\n",
       "            color:  #000000;\n",
       "        }    #T_9b122134_a4c0_11ea_908d_d85de242f6eerow2_col6 {\n",
       "            background-color:  #7295f4;\n",
       "            color:  #000000;\n",
       "        }    #T_9b122134_a4c0_11ea_908d_d85de242f6eerow2_col7 {\n",
       "            background-color:  #3b4cc0;\n",
       "            color:  #f1f1f1;\n",
       "        }    #T_9b122134_a4c0_11ea_908d_d85de242f6eerow3_col0 {\n",
       "            background-color:  #3e51c5;\n",
       "            color:  #f1f1f1;\n",
       "        }    #T_9b122134_a4c0_11ea_908d_d85de242f6eerow3_col1 {\n",
       "            background-color:  #f7ba9f;\n",
       "            color:  #000000;\n",
       "        }    #T_9b122134_a4c0_11ea_908d_d85de242f6eerow3_col2 {\n",
       "            background-color:  #93b5fe;\n",
       "            color:  #000000;\n",
       "        }    #T_9b122134_a4c0_11ea_908d_d85de242f6eerow3_col3 {\n",
       "            background-color:  #b40426;\n",
       "            color:  #f1f1f1;\n",
       "        }    #T_9b122134_a4c0_11ea_908d_d85de242f6eerow3_col4 {\n",
       "            background-color:  #7b9ff9;\n",
       "            color:  #000000;\n",
       "        }    #T_9b122134_a4c0_11ea_908d_d85de242f6eerow3_col5 {\n",
       "            background-color:  #a6c4fe;\n",
       "            color:  #000000;\n",
       "        }    #T_9b122134_a4c0_11ea_908d_d85de242f6eerow3_col6 {\n",
       "            background-color:  #b5cdfa;\n",
       "            color:  #000000;\n",
       "        }    #T_9b122134_a4c0_11ea_908d_d85de242f6eerow3_col7 {\n",
       "            background-color:  #d5dbe5;\n",
       "            color:  #000000;\n",
       "        }    #T_9b122134_a4c0_11ea_908d_d85de242f6eerow4_col0 {\n",
       "            background-color:  #5572df;\n",
       "            color:  #000000;\n",
       "        }    #T_9b122134_a4c0_11ea_908d_d85de242f6eerow4_col1 {\n",
       "            background-color:  #799cf8;\n",
       "            color:  #000000;\n",
       "        }    #T_9b122134_a4c0_11ea_908d_d85de242f6eerow4_col2 {\n",
       "            background-color:  #5e7de7;\n",
       "            color:  #000000;\n",
       "        }    #T_9b122134_a4c0_11ea_908d_d85de242f6eerow4_col3 {\n",
       "            background-color:  #445acc;\n",
       "            color:  #f1f1f1;\n",
       "        }    #T_9b122134_a4c0_11ea_908d_d85de242f6eerow4_col4 {\n",
       "            background-color:  #b40426;\n",
       "            color:  #f1f1f1;\n",
       "        }    #T_9b122134_a4c0_11ea_908d_d85de242f6eerow4_col5 {\n",
       "            background-color:  #3b4cc0;\n",
       "            color:  #f1f1f1;\n",
       "        }    #T_9b122134_a4c0_11ea_908d_d85de242f6eerow4_col6 {\n",
       "            background-color:  #3b4cc0;\n",
       "            color:  #f1f1f1;\n",
       "        }    #T_9b122134_a4c0_11ea_908d_d85de242f6eerow4_col7 {\n",
       "            background-color:  #c5d6f2;\n",
       "            color:  #000000;\n",
       "        }    #T_9b122134_a4c0_11ea_908d_d85de242f6eerow5_col0 {\n",
       "            background-color:  #3b4cc0;\n",
       "            color:  #f1f1f1;\n",
       "        }    #T_9b122134_a4c0_11ea_908d_d85de242f6eerow5_col1 {\n",
       "            background-color:  #84a7fc;\n",
       "            color:  #000000;\n",
       "        }    #T_9b122134_a4c0_11ea_908d_d85de242f6eerow5_col2 {\n",
       "            background-color:  #c3d5f4;\n",
       "            color:  #000000;\n",
       "        }    #T_9b122134_a4c0_11ea_908d_d85de242f6eerow5_col3 {\n",
       "            background-color:  #81a4fb;\n",
       "            color:  #000000;\n",
       "        }    #T_9b122134_a4c0_11ea_908d_d85de242f6eerow5_col4 {\n",
       "            background-color:  #485fd1;\n",
       "            color:  #f1f1f1;\n",
       "        }    #T_9b122134_a4c0_11ea_908d_d85de242f6eerow5_col5 {\n",
       "            background-color:  #b40426;\n",
       "            color:  #f1f1f1;\n",
       "        }    #T_9b122134_a4c0_11ea_908d_d85de242f6eerow5_col6 {\n",
       "            background-color:  #dfdbd9;\n",
       "            color:  #000000;\n",
       "        }    #T_9b122134_a4c0_11ea_908d_d85de242f6eerow5_col7 {\n",
       "            background-color:  #d2dbe8;\n",
       "            color:  #000000;\n",
       "        }    #T_9b122134_a4c0_11ea_908d_d85de242f6eerow6_col0 {\n",
       "            background-color:  #4a63d3;\n",
       "            color:  #f1f1f1;\n",
       "        }    #T_9b122134_a4c0_11ea_908d_d85de242f6eerow6_col1 {\n",
       "            background-color:  #a3c2fe;\n",
       "            color:  #000000;\n",
       "        }    #T_9b122134_a4c0_11ea_908d_d85de242f6eerow6_col2 {\n",
       "            background-color:  #b5cdfa;\n",
       "            color:  #000000;\n",
       "        }    #T_9b122134_a4c0_11ea_908d_d85de242f6eerow6_col3 {\n",
       "            background-color:  #aac7fd;\n",
       "            color:  #000000;\n",
       "        }    #T_9b122134_a4c0_11ea_908d_d85de242f6eerow6_col4 {\n",
       "            background-color:  #6384eb;\n",
       "            color:  #000000;\n",
       "        }    #T_9b122134_a4c0_11ea_908d_d85de242f6eerow6_col5 {\n",
       "            background-color:  #ead5c9;\n",
       "            color:  #000000;\n",
       "        }    #T_9b122134_a4c0_11ea_908d_d85de242f6eerow6_col6 {\n",
       "            background-color:  #b40426;\n",
       "            color:  #f1f1f1;\n",
       "        }    #T_9b122134_a4c0_11ea_908d_d85de242f6eerow6_col7 {\n",
       "            background-color:  #dbdcde;\n",
       "            color:  #000000;\n",
       "        }    #T_9b122134_a4c0_11ea_908d_d85de242f6eerow7_col0 {\n",
       "            background-color:  #4e68d8;\n",
       "            color:  #000000;\n",
       "        }    #T_9b122134_a4c0_11ea_908d_d85de242f6eerow7_col1 {\n",
       "            background-color:  #cdd9ec;\n",
       "            color:  #000000;\n",
       "        }    #T_9b122134_a4c0_11ea_908d_d85de242f6eerow7_col2 {\n",
       "            background-color:  #3b4cc0;\n",
       "            color:  #f1f1f1;\n",
       "        }    #T_9b122134_a4c0_11ea_908d_d85de242f6eerow7_col3 {\n",
       "            background-color:  #97b8ff;\n",
       "            color:  #000000;\n",
       "        }    #T_9b122134_a4c0_11ea_908d_d85de242f6eerow7_col4 {\n",
       "            background-color:  #abc8fd;\n",
       "            color:  #000000;\n",
       "        }    #T_9b122134_a4c0_11ea_908d_d85de242f6eerow7_col5 {\n",
       "            background-color:  #b2ccfb;\n",
       "            color:  #000000;\n",
       "        }    #T_9b122134_a4c0_11ea_908d_d85de242f6eerow7_col6 {\n",
       "            background-color:  #adc9fd;\n",
       "            color:  #000000;\n",
       "        }    #T_9b122134_a4c0_11ea_908d_d85de242f6eerow7_col7 {\n",
       "            background-color:  #b40426;\n",
       "            color:  #f1f1f1;\n",
       "        }</style><table id=\"T_9b122134_a4c0_11ea_908d_d85de242f6ee\" ><thead>    <tr>        <th class=\"blank level0\" ></th>        <th class=\"col_heading level0 col0\" >PassengerId</th>        <th class=\"col_heading level0 col1\" >Survived</th>        <th class=\"col_heading level0 col2\" >Pclass</th>        <th class=\"col_heading level0 col3\" >Sex</th>        <th class=\"col_heading level0 col4\" >Age</th>        <th class=\"col_heading level0 col5\" >SibSp</th>        <th class=\"col_heading level0 col6\" >Parch</th>        <th class=\"col_heading level0 col7\" >Fare</th>    </tr></thead><tbody>\n",
       "                <tr>\n",
       "                        <th id=\"T_9b122134_a4c0_11ea_908d_d85de242f6eelevel0_row0\" class=\"row_heading level0 row0\" >PassengerId</th>\n",
       "                        <td id=\"T_9b122134_a4c0_11ea_908d_d85de242f6eerow0_col0\" class=\"data row0 col0\" >1</td>\n",
       "                        <td id=\"T_9b122134_a4c0_11ea_908d_d85de242f6eerow0_col1\" class=\"data row0 col1\" >-0.00500666</td>\n",
       "                        <td id=\"T_9b122134_a4c0_11ea_908d_d85de242f6eerow0_col2\" class=\"data row0 col2\" >-0.035144</td>\n",
       "                        <td id=\"T_9b122134_a4c0_11ea_908d_d85de242f6eerow0_col3\" class=\"data row0 col3\" >-0.0429389</td>\n",
       "                        <td id=\"T_9b122134_a4c0_11ea_908d_d85de242f6eerow0_col4\" class=\"data row0 col4\" >0.0368472</td>\n",
       "                        <td id=\"T_9b122134_a4c0_11ea_908d_d85de242f6eerow0_col5\" class=\"data row0 col5\" >-0.0575268</td>\n",
       "                        <td id=\"T_9b122134_a4c0_11ea_908d_d85de242f6eerow0_col6\" class=\"data row0 col6\" >-0.00165201</td>\n",
       "                        <td id=\"T_9b122134_a4c0_11ea_908d_d85de242f6eerow0_col7\" class=\"data row0 col7\" >0.0126582</td>\n",
       "            </tr>\n",
       "            <tr>\n",
       "                        <th id=\"T_9b122134_a4c0_11ea_908d_d85de242f6eelevel0_row1\" class=\"row_heading level0 row1\" >Survived</th>\n",
       "                        <td id=\"T_9b122134_a4c0_11ea_908d_d85de242f6eerow1_col0\" class=\"data row1 col0\" >-0.00500666</td>\n",
       "                        <td id=\"T_9b122134_a4c0_11ea_908d_d85de242f6eerow1_col1\" class=\"data row1 col1\" >1</td>\n",
       "                        <td id=\"T_9b122134_a4c0_11ea_908d_d85de242f6eerow1_col2\" class=\"data row1 col2\" >-0.338481</td>\n",
       "                        <td id=\"T_9b122134_a4c0_11ea_908d_d85de242f6eerow1_col3\" class=\"data row1 col3\" >0.543351</td>\n",
       "                        <td id=\"T_9b122134_a4c0_11ea_908d_d85de242f6eerow1_col4\" class=\"data row1 col4\" >-0.0772211</td>\n",
       "                        <td id=\"T_9b122134_a4c0_11ea_908d_d85de242f6eerow1_col5\" class=\"data row1 col5\" >-0.0353225</td>\n",
       "                        <td id=\"T_9b122134_a4c0_11ea_908d_d85de242f6eerow1_col6\" class=\"data row1 col6\" >0.0816294</td>\n",
       "                        <td id=\"T_9b122134_a4c0_11ea_908d_d85de242f6eerow1_col7\" class=\"data row1 col7\" >0.257307</td>\n",
       "            </tr>\n",
       "            <tr>\n",
       "                        <th id=\"T_9b122134_a4c0_11ea_908d_d85de242f6eelevel0_row2\" class=\"row_heading level0 row2\" >Pclass</th>\n",
       "                        <td id=\"T_9b122134_a4c0_11ea_908d_d85de242f6eerow2_col0\" class=\"data row2 col0\" >-0.035144</td>\n",
       "                        <td id=\"T_9b122134_a4c0_11ea_908d_d85de242f6eerow2_col1\" class=\"data row2 col1\" >-0.338481</td>\n",
       "                        <td id=\"T_9b122134_a4c0_11ea_908d_d85de242f6eerow2_col2\" class=\"data row2 col2\" >1</td>\n",
       "                        <td id=\"T_9b122134_a4c0_11ea_908d_d85de242f6eerow2_col3\" class=\"data row2 col3\" >-0.1319</td>\n",
       "                        <td id=\"T_9b122134_a4c0_11ea_908d_d85de242f6eerow2_col4\" class=\"data row2 col4\" >-0.369226</td>\n",
       "                        <td id=\"T_9b122134_a4c0_11ea_908d_d85de242f6eerow2_col5\" class=\"data row2 col5\" >0.0830814</td>\n",
       "                        <td id=\"T_9b122134_a4c0_11ea_908d_d85de242f6eerow2_col6\" class=\"data row2 col6\" >0.0184427</td>\n",
       "                        <td id=\"T_9b122134_a4c0_11ea_908d_d85de242f6eerow2_col7\" class=\"data row2 col7\" >-0.5495</td>\n",
       "            </tr>\n",
       "            <tr>\n",
       "                        <th id=\"T_9b122134_a4c0_11ea_908d_d85de242f6eelevel0_row3\" class=\"row_heading level0 row3\" >Sex</th>\n",
       "                        <td id=\"T_9b122134_a4c0_11ea_908d_d85de242f6eerow3_col0\" class=\"data row3 col0\" >-0.0429389</td>\n",
       "                        <td id=\"T_9b122134_a4c0_11ea_908d_d85de242f6eerow3_col1\" class=\"data row3 col1\" >0.543351</td>\n",
       "                        <td id=\"T_9b122134_a4c0_11ea_908d_d85de242f6eerow3_col2\" class=\"data row3 col2\" >-0.1319</td>\n",
       "                        <td id=\"T_9b122134_a4c0_11ea_908d_d85de242f6eerow3_col3\" class=\"data row3 col3\" >1</td>\n",
       "                        <td id=\"T_9b122134_a4c0_11ea_908d_d85de242f6eerow3_col4\" class=\"data row3 col4\" >-0.0932536</td>\n",
       "                        <td id=\"T_9b122134_a4c0_11ea_908d_d85de242f6eerow3_col5\" class=\"data row3 col5\" >0.114631</td>\n",
       "                        <td id=\"T_9b122134_a4c0_11ea_908d_d85de242f6eerow3_col6\" class=\"data row3 col6\" >0.245489</td>\n",
       "                        <td id=\"T_9b122134_a4c0_11ea_908d_d85de242f6eerow3_col7\" class=\"data row3 col7\" >0.182333</td>\n",
       "            </tr>\n",
       "            <tr>\n",
       "                        <th id=\"T_9b122134_a4c0_11ea_908d_d85de242f6eelevel0_row4\" class=\"row_heading level0 row4\" >Age</th>\n",
       "                        <td id=\"T_9b122134_a4c0_11ea_908d_d85de242f6eerow4_col0\" class=\"data row4 col0\" >0.0368472</td>\n",
       "                        <td id=\"T_9b122134_a4c0_11ea_908d_d85de242f6eerow4_col1\" class=\"data row4 col1\" >-0.0772211</td>\n",
       "                        <td id=\"T_9b122134_a4c0_11ea_908d_d85de242f6eerow4_col2\" class=\"data row4 col2\" >-0.369226</td>\n",
       "                        <td id=\"T_9b122134_a4c0_11ea_908d_d85de242f6eerow4_col3\" class=\"data row4 col3\" >-0.0932536</td>\n",
       "                        <td id=\"T_9b122134_a4c0_11ea_908d_d85de242f6eerow4_col4\" class=\"data row4 col4\" >1</td>\n",
       "                        <td id=\"T_9b122134_a4c0_11ea_908d_d85de242f6eerow4_col5\" class=\"data row4 col5\" >-0.308247</td>\n",
       "                        <td id=\"T_9b122134_a4c0_11ea_908d_d85de242f6eerow4_col6\" class=\"data row4 col6\" >-0.189119</td>\n",
       "                        <td id=\"T_9b122134_a4c0_11ea_908d_d85de242f6eerow4_col7\" class=\"data row4 col7\" >0.0960667</td>\n",
       "            </tr>\n",
       "            <tr>\n",
       "                        <th id=\"T_9b122134_a4c0_11ea_908d_d85de242f6eelevel0_row5\" class=\"row_heading level0 row5\" >SibSp</th>\n",
       "                        <td id=\"T_9b122134_a4c0_11ea_908d_d85de242f6eerow5_col0\" class=\"data row5 col0\" >-0.0575268</td>\n",
       "                        <td id=\"T_9b122134_a4c0_11ea_908d_d85de242f6eerow5_col1\" class=\"data row5 col1\" >-0.0353225</td>\n",
       "                        <td id=\"T_9b122134_a4c0_11ea_908d_d85de242f6eerow5_col2\" class=\"data row5 col2\" >0.0830814</td>\n",
       "                        <td id=\"T_9b122134_a4c0_11ea_908d_d85de242f6eerow5_col3\" class=\"data row5 col3\" >0.114631</td>\n",
       "                        <td id=\"T_9b122134_a4c0_11ea_908d_d85de242f6eerow5_col4\" class=\"data row5 col4\" >-0.308247</td>\n",
       "                        <td id=\"T_9b122134_a4c0_11ea_908d_d85de242f6eerow5_col5\" class=\"data row5 col5\" >1</td>\n",
       "                        <td id=\"T_9b122134_a4c0_11ea_908d_d85de242f6eerow5_col6\" class=\"data row5 col6\" >0.414838</td>\n",
       "                        <td id=\"T_9b122134_a4c0_11ea_908d_d85de242f6eerow5_col7\" class=\"data row5 col7\" >0.159651</td>\n",
       "            </tr>\n",
       "            <tr>\n",
       "                        <th id=\"T_9b122134_a4c0_11ea_908d_d85de242f6eelevel0_row6\" class=\"row_heading level0 row6\" >Parch</th>\n",
       "                        <td id=\"T_9b122134_a4c0_11ea_908d_d85de242f6eerow6_col0\" class=\"data row6 col0\" >-0.00165201</td>\n",
       "                        <td id=\"T_9b122134_a4c0_11ea_908d_d85de242f6eerow6_col1\" class=\"data row6 col1\" >0.0816294</td>\n",
       "                        <td id=\"T_9b122134_a4c0_11ea_908d_d85de242f6eerow6_col2\" class=\"data row6 col2\" >0.0184427</td>\n",
       "                        <td id=\"T_9b122134_a4c0_11ea_908d_d85de242f6eerow6_col3\" class=\"data row6 col3\" >0.245489</td>\n",
       "                        <td id=\"T_9b122134_a4c0_11ea_908d_d85de242f6eerow6_col4\" class=\"data row6 col4\" >-0.189119</td>\n",
       "                        <td id=\"T_9b122134_a4c0_11ea_908d_d85de242f6eerow6_col5\" class=\"data row6 col5\" >0.414838</td>\n",
       "                        <td id=\"T_9b122134_a4c0_11ea_908d_d85de242f6eerow6_col6\" class=\"data row6 col6\" >1</td>\n",
       "                        <td id=\"T_9b122134_a4c0_11ea_908d_d85de242f6eerow6_col7\" class=\"data row6 col7\" >0.216225</td>\n",
       "            </tr>\n",
       "            <tr>\n",
       "                        <th id=\"T_9b122134_a4c0_11ea_908d_d85de242f6eelevel0_row7\" class=\"row_heading level0 row7\" >Fare</th>\n",
       "                        <td id=\"T_9b122134_a4c0_11ea_908d_d85de242f6eerow7_col0\" class=\"data row7 col0\" >0.0126582</td>\n",
       "                        <td id=\"T_9b122134_a4c0_11ea_908d_d85de242f6eerow7_col1\" class=\"data row7 col1\" >0.257307</td>\n",
       "                        <td id=\"T_9b122134_a4c0_11ea_908d_d85de242f6eerow7_col2\" class=\"data row7 col2\" >-0.5495</td>\n",
       "                        <td id=\"T_9b122134_a4c0_11ea_908d_d85de242f6eerow7_col3\" class=\"data row7 col3\" >0.182333</td>\n",
       "                        <td id=\"T_9b122134_a4c0_11ea_908d_d85de242f6eerow7_col4\" class=\"data row7 col4\" >0.0960667</td>\n",
       "                        <td id=\"T_9b122134_a4c0_11ea_908d_d85de242f6eerow7_col5\" class=\"data row7 col5\" >0.159651</td>\n",
       "                        <td id=\"T_9b122134_a4c0_11ea_908d_d85de242f6eerow7_col6\" class=\"data row7 col6\" >0.216225</td>\n",
       "                        <td id=\"T_9b122134_a4c0_11ea_908d_d85de242f6eerow7_col7\" class=\"data row7 col7\" >1</td>\n",
       "            </tr>\n",
       "    </tbody></table>"
      ],
      "text/plain": [
       "<pandas.io.formats.style.Styler at 0x148eb20>"
      ]
     },
     "execution_count": 5,
     "metadata": {},
     "output_type": "execute_result"
    }
   ],
   "source": [
    "corr=train.corr()\n",
    "corr.style.background_gradient(cmap='coolwarm')"
   ]
  },
  {
   "cell_type": "raw",
   "metadata": {},
   "source": [
    "So Pclass,Sex and Fare are the factors that decide the Survival"
   ]
  },
  {
   "cell_type": "code",
   "execution_count": 6,
   "metadata": {},
   "outputs": [
    {
     "data": {
      "image/png": "[encoded data removed]",
      "text/plain": [
       "<Figure size 432x432 with 2 Axes>"
      ]
     },
     "metadata": {
      "needs_background": "light"
     },
     "output_type": "display_data"
    }
   ],
   "source": [
    "g=sns.FacetGrid(train,row='Survived',height=3, aspect=2)\n",
    "g=g.map(plt.hist,'Fare',bins=20)"
   ]
  },
  {
   "cell_type": "raw",
   "metadata": {},
   "source": [
    "So higher the fare more chances of survival"
   ]
  },
  {
   "cell_type": "markdown",
   "metadata": {},
   "source": [
    "To check how the family members affect the Survival"
   ]
  },
  {
   "cell_type": "code",
   "execution_count": 109,
   "metadata": {},
   "outputs": [
    {
     "data": {
      "text/plain": [
       "<matplotlib.axes._subplots.AxesSubplot at 0x134d2598>"
      ]
     },
     "execution_count": 109,
     "metadata": {},
     "output_type": "execute_result"
    },
    {
     "data": {
      "image/png": "[encoded data removed]",
      "text/plain": [
       "<Figure size 432x288 with 1 Axes>"
      ]
     },
     "metadata": {
      "needs_background": "light"
     },
     "output_type": "display_data"
    }
   ],
   "source": [
    "train['family']=train['SibSp']+train['Parch']+1\n",
    "train['alone']=train['family'].apply(lambda x:0 if x>1 else 1)\n",
    "sns.barplot(x='family',y='Survived',data=train)\n"
   ]
  },
  {
   "cell_type": "code",
   "execution_count": 110,
   "metadata": {},
   "outputs": [
    {
     "name": "stdout",
     "output_type": "stream",
     "text": [
      "       Survived\n",
      "alone          \n",
      "0      0.505650\n",
      "1      0.303538\n"
     ]
    },
    {
     "data": {
      "text/plain": [
       "<matplotlib.axes._subplots.AxesSubplot at 0x1412400>"
      ]
     },
     "execution_count": 110,
     "metadata": {},
     "output_type": "execute_result"
    },
    {
     "data": {
      "image/png": "[encoded data removed]",
      "text/plain": [
       "<Figure size 432x288 with 1 Axes>"
      ]
     },
     "metadata": {
      "needs_background": "light"
     },
     "output_type": "display_data"
    }
   ],
   "source": [
    "a=train[['alone','Survived']].groupby(['alone']).mean()\n",
    "print(a)\n",
    "sns.barplot(x='alone',y='Survived',data=train)"
   ]
  },
  {
   "cell_type": "markdown",
   "metadata": {},
   "source": [
    "To check whether the Title has anywhere related to the survival"
   ]
  },
  {
   "cell_type": "code",
   "execution_count": 111,
   "metadata": {},
   "outputs": [
    {
     "data": {
      "text/plain": [
       "Mr          517\n",
       "Miss        182\n",
       "Mrs         125\n",
       "Master       40\n",
       "Dr            7\n",
       "Rev           6\n",
       "Major         2\n",
       "Mlle          2\n",
       "Col           2\n",
       "Mme           1\n",
       "Ms            1\n",
       "Sir           1\n",
       "Jonkheer      1\n",
       "Lady          1\n",
       "Don           1\n",
       "Capt          1\n",
       "Countess      1\n",
       "Name: title, dtype: int64"
      ]
     },
     "execution_count": 111,
     "metadata": {},
     "output_type": "execute_result"
    }
   ],
   "source": [
    "train['title']=train['Name'].str.extract('([A-Za-z]+)\\.',expand=False)\n",
    "train['title'].value_counts()"
   ]
  },
  {
   "cell_type": "code",
   "execution_count": 112,
   "metadata": {},
   "outputs": [
    {
     "name": "stdout",
     "output_type": "stream",
     "text": [
      "Mr        519\n",
      "Miss      182\n",
      "Mrs       125\n",
      "Master     40\n",
      "rare       25\n",
      "Name: title, dtype: int64\n"
     ]
    },
    {
     "data": {
      "image/png": "[encoded data removed]",
      "text/plain": [
       "<Figure size 432x288 with 1 Axes>"
      ]
     },
     "metadata": {
      "needs_background": "light"
     },
     "output_type": "display_data"
    }
   ],
   "source": [
    "def grp(val):\n",
    "    if val in ['Rev','Major','Col','Mlle','Jonkheer','Dona','Capt','Ms','Mme','Lady','Countess','Dr']:\n",
    "        return 'rare'\n",
    "    elif val in['Sir','Don']:\n",
    "        return 'Mr'\n",
    "    elif val in ['Lady','Dona']:\n",
    "        return 'Mrs'\n",
    "    else:\n",
    "        return val\n",
    "    \n",
    "train['title']=train['title'].apply(grp)\n",
    "print(train['title'].value_counts())\n",
    "a=sns.barplot(x='title',y='Survived',data=train)   "
   ]
  },
  {
   "cell_type": "markdown",
   "metadata": {},
   "source": [
    "To find the age using Pclass,Sex,title"
   ]
  },
  {
   "cell_type": "code",
   "execution_count": 113,
   "metadata": {
    "scrolled": true
   },
   "outputs": [
    {
     "name": "stdout",
     "output_type": "stream",
     "text": [
      "Sex  Pclass  title \n",
      "0    1       Master     5.31\n",
      "             Mr        41.65\n",
      "             rare      49.67\n",
      "     2       Master     2.26\n",
      "             Mr        32.77\n",
      "             rare      42.00\n",
      "     3       Master     5.35\n",
      "             Mr        28.72\n",
      "1    1       Miss      30.00\n",
      "             Mrs       40.88\n",
      "             rare      33.67\n",
      "     2       Miss      22.39\n",
      "             Mrs       33.68\n",
      "             rare      28.00\n",
      "     3       Miss      16.12\n",
      "             Mrs       33.52\n",
      "Name: Age, dtype: float64\n"
     ]
    },
    {
     "data": {
      "text/plain": [
       "<matplotlib.axes._subplots.AxesSubplot at 0x134ffa30>"
      ]
     },
     "execution_count": 113,
     "metadata": {},
     "output_type": "execute_result"
    },
    {
     "data": {
      "image/png": "[encoded data removed]",
      "text/plain": [
       "<Figure size 432x288 with 1 Axes>"
      ]
     },
     "metadata": {
      "needs_background": "light"
     },
     "output_type": "display_data"
    }
   ],
   "source": [
    "a=train.groupby(['Sex','Pclass','title']).mean().round(2)\n",
    "a=a['Age']\n",
    "print(a)\n",
    "a.unstack(level=0).plot(kind='bar',subplots=False)"
   ]
  },
  {
   "cell_type": "code",
   "execution_count": 96,
   "metadata": {},
   "outputs": [
    {
     "data": {
      "text/html": [
       "<div>\n",
       "<style scoped>\n",
       "    .dataframe tbody tr th:only-of-type {\n",
       "        vertical-align: middle;\n",
       "    }\n",
       "\n",
       "    .dataframe tbody tr th {\n",
       "        vertical-align: top;\n",
       "    }\n",
       "\n",
       "    .dataframe thead th {\n",
       "        text-align: right;\n",
       "    }\n",
       "</style>\n",
       "<table border=\"1\" class=\"dataframe\">\n",
       "  <thead>\n",
       "    <tr style=\"text-align: right;\">\n",
       "      <th></th>\n",
       "      <th>Sex</th>\n",
       "      <th>Pclass</th>\n",
       "      <th>title</th>\n",
       "      <th>Age</th>\n",
       "    </tr>\n",
       "  </thead>\n",
       "  <tbody>\n",
       "    <tr>\n",
       "      <th>0</th>\n",
       "      <td>0</td>\n",
       "      <td>1</td>\n",
       "      <td>Master</td>\n",
       "      <td>4.0</td>\n",
       "    </tr>\n",
       "    <tr>\n",
       "      <th>1</th>\n",
       "      <td>0</td>\n",
       "      <td>1</td>\n",
       "      <td>Mr</td>\n",
       "      <td>40.0</td>\n",
       "    </tr>\n",
       "    <tr>\n",
       "      <th>2</th>\n",
       "      <td>0</td>\n",
       "      <td>1</td>\n",
       "      <td>rare</td>\n",
       "      <td>50.0</td>\n",
       "    </tr>\n",
       "    <tr>\n",
       "      <th>3</th>\n",
       "      <td>0</td>\n",
       "      <td>2</td>\n",
       "      <td>Master</td>\n",
       "      <td>1.0</td>\n",
       "    </tr>\n",
       "    <tr>\n",
       "      <th>4</th>\n",
       "      <td>0</td>\n",
       "      <td>2</td>\n",
       "      <td>Mr</td>\n",
       "      <td>31.0</td>\n",
       "    </tr>\n",
       "    <tr>\n",
       "      <th>5</th>\n",
       "      <td>0</td>\n",
       "      <td>2</td>\n",
       "      <td>rare</td>\n",
       "      <td>46.5</td>\n",
       "    </tr>\n",
       "    <tr>\n",
       "      <th>6</th>\n",
       "      <td>0</td>\n",
       "      <td>3</td>\n",
       "      <td>Master</td>\n",
       "      <td>4.0</td>\n",
       "    </tr>\n",
       "    <tr>\n",
       "      <th>7</th>\n",
       "      <td>0</td>\n",
       "      <td>3</td>\n",
       "      <td>Mr</td>\n",
       "      <td>26.0</td>\n",
       "    </tr>\n",
       "    <tr>\n",
       "      <th>8</th>\n",
       "      <td>1</td>\n",
       "      <td>1</td>\n",
       "      <td>Miss</td>\n",
       "      <td>30.0</td>\n",
       "    </tr>\n",
       "    <tr>\n",
       "      <th>9</th>\n",
       "      <td>1</td>\n",
       "      <td>1</td>\n",
       "      <td>Mrs</td>\n",
       "      <td>41.5</td>\n",
       "    </tr>\n",
       "    <tr>\n",
       "      <th>10</th>\n",
       "      <td>1</td>\n",
       "      <td>1</td>\n",
       "      <td>rare</td>\n",
       "      <td>28.5</td>\n",
       "    </tr>\n",
       "    <tr>\n",
       "      <th>11</th>\n",
       "      <td>1</td>\n",
       "      <td>2</td>\n",
       "      <td>Miss</td>\n",
       "      <td>24.0</td>\n",
       "    </tr>\n",
       "    <tr>\n",
       "      <th>12</th>\n",
       "      <td>1</td>\n",
       "      <td>2</td>\n",
       "      <td>Mrs</td>\n",
       "      <td>32.0</td>\n",
       "    </tr>\n",
       "    <tr>\n",
       "      <th>13</th>\n",
       "      <td>1</td>\n",
       "      <td>2</td>\n",
       "      <td>rare</td>\n",
       "      <td>28.0</td>\n",
       "    </tr>\n",
       "    <tr>\n",
       "      <th>14</th>\n",
       "      <td>1</td>\n",
       "      <td>3</td>\n",
       "      <td>Miss</td>\n",
       "      <td>18.0</td>\n",
       "    </tr>\n",
       "    <tr>\n",
       "      <th>15</th>\n",
       "      <td>1</td>\n",
       "      <td>3</td>\n",
       "      <td>Mrs</td>\n",
       "      <td>31.0</td>\n",
       "    </tr>\n",
       "  </tbody>\n",
       "</table>\n",
       "</div>"
      ],
      "text/plain": [
       "    Sex  Pclass   title   Age\n",
       "0     0       1  Master   4.0\n",
       "1     0       1      Mr  40.0\n",
       "2     0       1    rare  50.0\n",
       "3     0       2  Master   1.0\n",
       "4     0       2      Mr  31.0\n",
       "5     0       2    rare  46.5\n",
       "6     0       3  Master   4.0\n",
       "7     0       3      Mr  26.0\n",
       "8     1       1    Miss  30.0\n",
       "9     1       1     Mrs  41.5\n",
       "10    1       1    rare  28.5\n",
       "11    1       2    Miss  24.0\n",
       "12    1       2     Mrs  32.0\n",
       "13    1       2    rare  28.0\n",
       "14    1       3    Miss  18.0\n",
       "15    1       3     Mrs  31.0"
      ]
     },
     "execution_count": 96,
     "metadata": {},
     "output_type": "execute_result"
    }
   ],
   "source": [
    "b=train.groupby(['Sex','Pclass','title'])\n",
    "b_median=b.median()\n",
    "b=b_median.reset_index()[['Sex', 'Pclass', 'title', 'Age']]\n",
    "b"
   ]
  },
  {
   "cell_type": "code",
   "execution_count": 104,
   "metadata": {},
   "outputs": [
    {
     "name": "stderr",
     "output_type": "stream",
     "text": [
      "<ipython-input-104-76791e330d3e>:7: SettingWithCopyWarning: \n",
      "A value is trying to be set on a copy of a slice from a DataFrame\n",
      "\n",
      "See the caveats in the documentation: http://pandas.pydata.org/pandas-docs/stable/user_guide/indexing.html#returning-a-view-versus-a-copy\n",
      "  train['Age'][key] = train['Age'][key]\n",
      "<ipython-input-104-76791e330d3e>:5: SettingWithCopyWarning: \n",
      "A value is trying to be set on a copy of a slice from a DataFrame\n",
      "\n",
      "See the caveats in the documentation: http://pandas.pydata.org/pandas-docs/stable/user_guide/indexing.html#returning-a-view-versus-a-copy\n",
      "  train['Age'][key]=b['Age'][key2]\n"
     ]
    },
    {
     "data": {
      "text/plain": [
       "0      22.0\n",
       "1      38.0\n",
       "2      26.0\n",
       "3      35.0\n",
       "4      35.0\n",
       "       ... \n",
       "886    27.0\n",
       "887    19.0\n",
       "888    18.0\n",
       "889    26.0\n",
       "890    32.0\n",
       "Name: Age, Length: 891, dtype: float64"
      ]
     },
     "execution_count": 104,
     "metadata": {},
     "output_type": "execute_result"
    }
   ],
   "source": [
    "for key,values in train['Age'].iteritems():\n",
    "    if pd.isna(train['Age'][key]):\n",
    "        for key2,values2 in b['Age'].iteritems():\n",
    "            if train['Sex'][key]==b['Sex'][key2]and train['title'][key]==b['title'][key2] and train['Pclass'][key]==b['Pclass'][key2]:\n",
    "                train['Age'][key]=b['Age'][key2]\n",
    "            else:\n",
    "                train['Age'][key] = train['Age'][key]\n",
    "train['Age']         "
   ]
  },
  {
   "cell_type": "raw",
   "metadata": {},
   "source": [
    "To study about Fare"
   ]
  },
  {
   "cell_type": "code",
   "execution_count": 126,
   "metadata": {},
   "outputs": [
    {
     "data": {
      "image/png": "[encoded data removed]",
      "text/plain": [
       "<Figure size 432x288 with 1 Axes>"
      ]
     },
     "metadata": {
      "needs_background": "light"
     },
     "output_type": "display_data"
    }
   ],
   "source": [
    "g=sns.distplot(train['Fare'],label=\"skewness:\"%(train['Fare'].skew()))\n",
    "g=g.legend(loc='best')"
   ]
  },
  {
   "cell_type": "code",
   "execution_count": 129,
   "metadata": {},
   "outputs": [
    {
     "data": {
      "image/png": "[encoded data removed]",
      "text/plain": [
       "<Figure size 432x288 with 1 Axes>"
      ]
     },
     "metadata": {
      "needs_background": "light"
     },
     "output_type": "display_data"
    }
   ],
   "source": [
    "train['Fare_log']=train['Fare'].apply(lambda i: np.log(i) if i>0 else 0)\n",
    "g=sns.distplot(train['Fare_log'],label=\"skewness:\"%(train['Fare'].skew()))\n",
    "g=g.legend(loc='best')"
   ]
  },
  {
   "cell_type": "code",
   "execution_count": 139,
   "metadata": {},
   "outputs": [
    {
     "name": "stderr",
     "output_type": "stream",
     "text": [
      "<ipython-input-139-a0f0c3c01f40>:5: SettingWithCopyWarning: \n",
      "A value is trying to be set on a copy of a slice from a DataFrame\n",
      "\n",
      "See the caveats in the documentation: http://pandas.pydata.org/pandas-docs/stable/user_guide/indexing.html#returning-a-view-versus-a-copy\n",
      "  train['has_cabin'][Key] = int(0)\n",
      "<ipython-input-139-a0f0c3c01f40>:7: SettingWithCopyWarning: \n",
      "A value is trying to be set on a copy of a slice from a DataFrame\n",
      "\n",
      "See the caveats in the documentation: http://pandas.pydata.org/pandas-docs/stable/user_guide/indexing.html#returning-a-view-versus-a-copy\n",
      "  train['has_cabin'][Key] = int(1)\n"
     ]
    }
   ],
   "source": [
    "train['has_cabin'] = 0\n",
    "\n",
    "for Key, value in train['Cabin'].iteritems(): \n",
    "    if pd.isna(train['Cabin'][Key]):\n",
    "        train['has_cabin'][Key] = int(0)\n",
    "    else:\n",
    "        train['has_cabin'][Key] = int(1)"
   ]
  },
  {
   "cell_type": "markdown",
   "metadata": {},
   "source": [
    "Pre-Modeling"
   ]
  },
  {
   "cell_type": "code",
   "execution_count": 145,
   "metadata": {},
   "outputs": [],
   "source": [
    "# to fill the null values\n",
    "\n",
    "train['Embarked'].fillna(\"S\",inplace=True)\n",
    "train['Age'].fillna(train['Age'].mean(),inplace=True)\n",
    "\n",
    "# To covert the catagorial values to numerical values\n",
    "\n",
    "le=preprocessing.LabelEncoder()\n",
    "train['Embarked'] = le.fit_transform(train['Embarked'])\n",
    "train['Sex'] = le.fit_transform(train['Sex'])\n",
    "train['name_title'] = le.fit_transform(train['title'])\n"
   ]
  },
  {
   "cell_type": "code",
   "execution_count": 146,
   "metadata": {},
   "outputs": [
    {
     "name": "stdout",
     "output_type": "stream",
     "text": [
      "<class 'pandas.core.frame.DataFrame'>\n",
      "RangeIndex: 891 entries, 0 to 890\n",
      "Data columns (total 18 columns):\n",
      "PassengerId    891 non-null int64\n",
      "Survived       891 non-null int64\n",
      "Pclass         891 non-null int64\n",
      "Name           891 non-null object\n",
      "Sex            891 non-null int32\n",
      "Age            891 non-null float64\n",
      "SibSp          891 non-null int64\n",
      "Parch          891 non-null int64\n",
      "Ticket         891 non-null object\n",
      "Fare           891 non-null float64\n",
      "Cabin          204 non-null object\n",
      "Embarked       891 non-null int32\n",
      "family         891 non-null int64\n",
      "alone          891 non-null int64\n",
      "title          891 non-null object\n",
      "Fare_log       891 non-null float64\n",
      "has_cabin      891 non-null int64\n",
      "name_title     891 non-null int32\n",
      "dtypes: float64(3), int32(3), int64(8), object(4)\n",
      "memory usage: 101.0+ KB\n"
     ]
    }
   ],
   "source": [
    "train.info()"
   ]
  }
 ],
 "metadata": {
  "kernelspec": {
   "display_name": "Python 3",
   "language": "python",
   "name": "python3"
  },
  "language_info": {
   "codemirror_mode": {
    "name": "ipython",
    "version": 3
   },
   "file_extension": ".py",
   "mimetype": "text/x-python",
   "name": "python",
   "nbconvert_exporter": "python",
   "pygments_lexer": "ipython3",
   "version": "3.8.1"
  }
 },
 "nbformat": 4,
 "nbformat_minor": 4
}
